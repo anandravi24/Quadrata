{
 "cells": [
  {
   "cell_type": "markdown",
   "id": "d23eb6a7-bad4-4e9d-86ec-eeaef6a83222",
   "metadata": {},
   "source": [
    "### Generate CSV with File Path and Labels"
   ]
  },
  {
   "cell_type": "code",
   "execution_count": 8,
   "id": "c9fddfe6-a0c1-4907-b546-08448b47d553",
   "metadata": {},
   "outputs": [
    {
     "name": "stdout",
     "output_type": "stream",
     "text": [
      "CSV files generated:\n",
      "  • train.csv: 1500 files\n",
      "  • val.csv:   600 files\n",
      "  • test.csv:  900 files\n"
     ]
    }
   ],
   "source": [
    "import os\n",
    "import glob\n",
    "import random\n",
    "import pandas as pd\n",
    "\n",
    "def collect_image_paths(data_dir):\n",
    "    data = []\n",
    "    for label in sorted(os.listdir(data_dir)):\n",
    "        label_path = os.path.join(data_dir, label)\n",
    "        if not os.path.isdir(label_path):\n",
    "            continue\n",
    "        image_files = glob.glob(os.path.join(label_path, \"*.*\"))\n",
    "        for file in image_files:\n",
    "            if file.lower().endswith(('.png', '.jpg', '.bmp')):\n",
    "                data.append((file, label))\n",
    "    return data\n",
    "\n",
    "# Seed for reproducibility\n",
    "random.seed(42)\n",
    "\n",
    "# Collect all image paths and labels\n",
    "train_data = collect_image_paths(\"data/train\")\n",
    "val_data_full = collect_image_paths(\"data/val\")\n",
    "\n",
    "# Shuffle val data\n",
    "random.shuffle(val_data_full)\n",
    "\n",
    "# Split: 40% val, 60% test\n",
    "split_idx = int(0.4 * len(val_data_full))\n",
    "val_data = val_data_full[:split_idx]\n",
    "test_data = val_data_full[split_idx:]\n",
    "\n",
    "# Save to CSVs\n",
    "pd.DataFrame(train_data, columns=[\"filepath\", \"label\"]).to_csv(\"train.csv\", index=False)\n",
    "pd.DataFrame(val_data, columns=[\"filepath\", \"label\"]).to_csv(\"val.csv\", index=False)\n",
    "pd.DataFrame(test_data, columns=[\"filepath\", \"label\"]).to_csv(\"test.csv\", index=False)\n",
    "pd.DataFrame(val_data_full, columns=[\"filepath\", \"label\"]).to_csv(\"full_val.csv\", index=False)\n",
    "\n",
    "# Print summary\n",
    "print(\"CSV files generated:\")\n",
    "print(f\"  • train.csv: {len(train_data)} files\")\n",
    "print(f\"  • val.csv:   {len(val_data)} files\")\n",
    "print(f\"  • test.csv:  {len(test_data)} files\")\n"
   ]
  },
  {
   "cell_type": "code",
   "execution_count": null,
   "id": "378e0607-2e09-4f52-abba-97d989819347",
   "metadata": {},
   "outputs": [],
   "source": []
  }
 ],
 "metadata": {
  "kernelspec": {
   "display_name": "cv",
   "language": "python",
   "name": "cv"
  },
  "language_info": {
   "codemirror_mode": {
    "name": "ipython",
    "version": 3
   },
   "file_extension": ".py",
   "mimetype": "text/x-python",
   "name": "python",
   "nbconvert_exporter": "python",
   "pygments_lexer": "ipython3",
   "version": "3.10.16"
  }
 },
 "nbformat": 4,
 "nbformat_minor": 5
}
