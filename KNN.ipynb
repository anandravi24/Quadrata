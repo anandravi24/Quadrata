{
 "cells": [
  {
   "cell_type": "markdown",
   "id": "7824bcc3-d839-4a77-a6be-66fe67bb0ec6",
   "metadata": {},
   "source": [
    "#### KNN\n",
    "\n",
    "Given that we found out in the EDA that there is a strong correlation between the Center RGB pixel and the cluster id, can we make a simple baseline ML model?\n",
    "\n",
    "This KNN will provide us with some insights of what range of accuracy we should be able to get relatively easily using other advanced ML techniques"
   ]
  },
  {
   "cell_type": "code",
   "execution_count": 13,
   "id": "f512da7e-2ae6-40aa-ba9b-d42b35ccba49",
   "metadata": {},
   "outputs": [],
   "source": [
    "import pandas as pd\n",
    "import numpy as np\n",
    "from PIL import Image\n",
    "from sklearn.preprocessing import LabelEncoder"
   ]
  },
  {
   "cell_type": "markdown",
   "id": "1d48fa2f-7157-440c-9588-2dc1b4d457b2",
   "metadata": {},
   "source": [
    "##### Feature Extraction"
   ]
  },
  {
   "cell_type": "code",
   "execution_count": null,
   "id": "4371f34c-39d1-4cd8-8bc5-c8bf45d883dc",
   "metadata": {},
   "outputs": [],
   "source": [
    "def extract_center_rgb(csv_file):\n",
    "    df = pd.read_csv(csv_file)\n",
    "    data = []\n",
    "    for _, row in df.iterrows():\n",
    "        img = Image.open(row[\"filepath\"]).convert(\"RGB\")\n",
    "        img_np = np.array(img)\n",
    "        h, w, _ = img_np.shape\n",
    "        center = img_np[h//2, w//2]\n",
    "        data.append((center[0], center[1], center[2], row[\"label\"]))\n",
    "    return pd.DataFrame(data, columns=[\"R\", \"G\", \"B\", \"label\"])\n",
    "\n",
    "train_rgb = extract_center_rgb(\"splits/train.csv\")\n",
    "val_rgb = extract_center_rgb(\"splits/val.csv\")"
   ]
  },
  {
   "cell_type": "markdown",
   "id": "293829e1-0acc-448c-b08f-965c2b938289",
   "metadata": {},
   "source": [
    "##### Transform Data"
   ]
  },
  {
   "cell_type": "code",
   "execution_count": 14,
   "id": "66609ea9-af20-444d-a570-5a6408eeec9f",
   "metadata": {},
   "outputs": [],
   "source": [
    "le = LabelEncoder()\n",
    "y_train = le.fit_transform(train_rgb[\"label\"])\n",
    "y_val = le.transform(val_rgb[\"label\"])\n",
    "\n",
    "X_train = train_rgb[[\"R\", \"G\", \"B\"]].values / 255.0\n",
    "X_val = val_rgb[[\"R\", \"G\", \"B\"]].values / 255.0"
   ]
  },
  {
   "cell_type": "markdown",
   "id": "12de7cac-ec4d-4482-94b3-5bff01557ae9",
   "metadata": {},
   "source": [
    "##### Evaluate"
   ]
  },
  {
   "cell_type": "code",
   "execution_count": 24,
   "id": "0b7f8280-00da-4420-a60d-2674642816cf",
   "metadata": {},
   "outputs": [
    {
     "name": "stdout",
     "output_type": "stream",
     "text": [
      "kNN Accuracy on full Val set: 0.98533\n",
      "Classification Report (Full Val set):\n",
      "              precision    recall  f1-score   support\n",
      "\n",
      "           a    0.97255   0.99200   0.98218       500\n",
      "           b    0.99177   0.96400   0.97769       500\n",
      "           c    0.99206   1.00000   0.99602       500\n",
      "\n",
      "    accuracy                        0.98533      1500\n",
      "   macro avg    0.98546   0.98533   0.98529      1500\n",
      "weighted avg    0.98546   0.98533   0.98529      1500\n",
      "\n"
     ]
    },
    {
     "data": {
      "image/png": "[encoded data removed]",
      "text/plain": [
       "<Figure size 640x480 with 2 Axes>"
      ]
     },
     "metadata": {},
     "output_type": "display_data"
    }
   ],
   "source": [
    "test_rgb = extract_center_rgb(\"splits/full_val.csv\")\n",
    "X_test = test_rgb[[\"R\", \"G\", \"B\"]].values / 255.0\n",
    "y_test = le.transform(test_rgb[\"label\"])  # Use same LabelEncoder as before\n",
    "\n",
    "# Predict\n",
    "test_preds = knn.predict(X_test)\n",
    "\n",
    "# Metrics\n",
    "acc = accuracy_score(y_test, test_preds)\n",
    "print(f\"kNN Accuracy on full Val set: {acc:.5f}\")\n",
    "print(\"Classification Report (Full Val set):\")\n",
    "print(classification_report(y_test, test_preds, target_names=le.classes_,  digits=5))\n",
    "\n",
    "# Confusion Matrix\n",
    "cm = confusion_matrix(y_test, test_preds)\n",
    "sns.heatmap(cm, annot=True, fmt=\"d\", xticklabels=le.classes_, yticklabels=le.classes_)\n",
    "plt.title(\"kNN Confusion Matrix (Full Val Set)\")\n",
    "plt.xlabel(\"Predicted\")\n",
    "plt.ylabel(\"True\")\n",
    "plt.show()"
   ]
  },
  {
   "cell_type": "code",
   "execution_count": null,
   "id": "986225a6-bddc-492b-bd07-411a9fc35b57",
   "metadata": {},
   "outputs": [],
   "source": []
  }
 ],
 "metadata": {
  "kernelspec": {
   "display_name": "Python 3 (ipykernel)",
   "language": "python",
   "name": "python3"
  },
  "language_info": {
   "codemirror_mode": {
    "name": "ipython",
    "version": 3
   },
   "file_extension": ".py",
   "mimetype": "text/x-python",
   "name": "python",
   "nbconvert_exporter": "python",
   "pygments_lexer": "ipython3",
   "version": "3.10.16"
  }
 },
 "nbformat": 4,
 "nbformat_minor": 5
}
